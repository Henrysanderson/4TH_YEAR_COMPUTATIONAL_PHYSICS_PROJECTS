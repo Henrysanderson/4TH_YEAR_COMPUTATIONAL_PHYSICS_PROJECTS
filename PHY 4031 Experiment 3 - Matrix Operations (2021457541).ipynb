{
 "cells": [
  {
   "cell_type": "markdown",
   "id": "ad5a13c4",
   "metadata": {},
   "source": [
    "# **`Experiment 3 : Matrix Operations`**"
   ]
  },
  {
   "cell_type": "markdown",
   "id": "07098cdd",
   "metadata": {},
   "source": [
    "## **`aim`**\n",
    "\n",
    "This laboratory session has several objectives. You will\n",
    "* create a square matrix\n",
    "* create a transpose matrix\n",
    "* compute the determinant of square matrix\n",
    "* compute the inverse of a square matrix\n",
    "* compute the eigenvalues and eigenvectors of a matrix\n"
   ]
  },
  {
   "cell_type": "markdown",
   "id": "c3b163a1",
   "metadata": {},
   "source": [
    "## **`Import numpy module using alias np`**"
   ]
  },
  {
   "cell_type": "markdown",
   "id": "6f09e6ba",
   "metadata": {},
   "source": [
    "* Import **numpy** module as **np** .  **[4 marks]**"
   ]
  },
  {
   "cell_type": "code",
   "execution_count": 1,
   "id": "0486aa70",
   "metadata": {},
   "outputs": [],
   "source": [
    "import numpy as np"
   ]
  },
  {
   "cell_type": "markdown",
   "id": "d181a9ee",
   "metadata": {},
   "source": [
    "## **`Exercise 1. Create a square matrix `**"
   ]
  },
  {
   "cell_type": "markdown",
   "id": "ef00b69f",
   "metadata": {},
   "source": [
    "* Create  symmetric matrix $\\mathbf{A}$ using numpy **`array()`** function  **[6 marks]**\n",
    "\n",
    "$$ \\mathbf{A} = \\begin{bmatrix} \n",
    "4 & -2 & 1 & -1 \\\\ -2 & 4 & -2 & 1 \\\\ 1 & -2 & 4 & -2 \\\\ -1 & 1 & -2 & 4\\\\ \\end{bmatrix}   $$"
   ]
  },
  {
   "cell_type": "code",
   "execution_count": 2,
   "id": "01f9b5bb",
   "metadata": {},
   "outputs": [],
   "source": [
    "A = np.array([[4, -2, 1, -1], [-2, 4, -2, 1], [1, -2, 4, -2], [-1, 1, -2, 4]])"
   ]
  },
  {
   "cell_type": "markdown",
   "id": "086246cf",
   "metadata": {},
   "source": [
    "* Print matrix **A** . **[2 marks]**"
   ]
  },
  {
   "cell_type": "code",
   "execution_count": 3,
   "id": "307a410d",
   "metadata": {},
   "outputs": [
    {
     "name": "stdout",
     "output_type": "stream",
     "text": [
      "[[ 4 -2  1 -1]\n",
      " [-2  4 -2  1]\n",
      " [ 1 -2  4 -2]\n",
      " [-1  1 -2  4]]\n"
     ]
    }
   ],
   "source": [
    "print(A)"
   ]
  },
  {
   "cell_type": "markdown",
   "id": "7cf14504",
   "metadata": {},
   "source": [
    "## **`Exercise 2. Create a transpose matrix `**"
   ]
  },
  {
   "cell_type": "markdown",
   "id": "789d846c",
   "metadata": {},
   "source": [
    "* Compute the transpose of matrix **A** using the numpy **transpose** function. Store the return value in variable **B**. **[3 marks]**"
   ]
  },
  {
   "cell_type": "code",
   "execution_count": 4,
   "id": "b879b4d6",
   "metadata": {},
   "outputs": [
    {
     "name": "stderr",
     "output_type": "stream",
     "text": [
      "/tmp/ipykernel_63209/2177858357.py:1: DeprecationWarning: fastCopyAndTranspose and the underlying C function PyArray_CopyAndTranspose have been deprecated.\n",
      "\n",
      "Use the transpose method followed by a C-order copy instead, e.g. ``arr.T.copy()``\n",
      "  B = np.fastCopyAndTranspose(A)\n"
     ]
    }
   ],
   "source": [
    "B = np.fastCopyAndTranspose(A)"
   ]
  },
  {
   "cell_type": "markdown",
   "id": "9fb0f007",
   "metadata": {},
   "source": [
    "* Print out  transpose matrix **B**. **[2 marks]**"
   ]
  },
  {
   "cell_type": "code",
   "execution_count": 5,
   "id": "433eb1da",
   "metadata": {},
   "outputs": [
    {
     "name": "stdout",
     "output_type": "stream",
     "text": [
      "[[ 4 -2  1 -1]\n",
      " [-2  4 -2  1]\n",
      " [ 1 -2  4 -2]\n",
      " [-1  1 -2  4]]\n"
     ]
    }
   ],
   "source": [
    "print(B)"
   ]
  },
  {
   "cell_type": "markdown",
   "id": "a45b2d14",
   "metadata": {},
   "source": [
    "* Show that matrix **A** is **`symmetric`**. **[4 marks]**"
   ]
  },
  {
   "cell_type": "code",
   "execution_count": 6,
   "id": "9687f910",
   "metadata": {},
   "outputs": [
    {
     "name": "stdout",
     "output_type": "stream",
     "text": [
      "True\n"
     ]
    }
   ],
   "source": [
    "# symetric matrix\n",
    "print(np.allclose(A, B))"
   ]
  },
  {
   "cell_type": "markdown",
   "id": "bdad0e20",
   "metadata": {},
   "source": [
    "## **`Exercise 3. Compute determinant of square matrix `**"
   ]
  },
  {
   "cell_type": "markdown",
   "id": "e3198235",
   "metadata": {},
   "source": [
    "* Import the determinant  function **`det`** from **numpy.linalg** sub-module. **[4 marks]**"
   ]
  },
  {
   "cell_type": "code",
   "execution_count": null,
   "id": "36cb5d69",
   "metadata": {},
   "outputs": [],
   "source": [
    "from numpy.linalg import det"
   ]
  },
  {
   "cell_type": "markdown",
   "id": "caa2bd9f",
   "metadata": {},
   "source": [
    "* Compute the determinant of matrix **A** and store return value in **determinant**. **[3 marks]**"
   ]
  },
  {
   "cell_type": "code",
   "execution_count": 8,
   "id": "3b3a8db7",
   "metadata": {},
   "outputs": [],
   "source": [
    "determinant = det(A)"
   ]
  },
  {
   "cell_type": "markdown",
   "id": "e38ca5bc",
   "metadata": {},
   "source": [
    "* Print out the variable **determinant**. **[2 marks]**"
   ]
  },
  {
   "cell_type": "code",
   "execution_count": 9,
   "id": "68381242",
   "metadata": {},
   "outputs": [
    {
     "name": "stdout",
     "output_type": "stream",
     "text": [
      "104.99999999999997\n"
     ]
    }
   ],
   "source": [
    "print(determinant)"
   ]
  },
  {
   "cell_type": "markdown",
   "id": "6c6a77b1",
   "metadata": {},
   "source": [
    "## **`Exercise 4. Compute inverse of square matrix `**"
   ]
  },
  {
   "cell_type": "markdown",
   "id": "ee0b1239",
   "metadata": {},
   "source": [
    "* Import the inverse  function **`inv`** from **numpy.linalg** sub-module. **[4 marks]**"
   ]
  },
  {
   "cell_type": "code",
   "execution_count": 10,
   "id": "b30836f0",
   "metadata": {},
   "outputs": [],
   "source": [
    "from numpy.linalg import inv"
   ]
  },
  {
   "cell_type": "markdown",
   "id": "299370b9",
   "metadata": {},
   "source": [
    "* Compute the inverse of matrix **A** and store return value in **inverse**. **[3 marks]**"
   ]
  },
  {
   "cell_type": "code",
   "execution_count": 11,
   "id": "f3e65cd9",
   "metadata": {},
   "outputs": [],
   "source": [
    "inverse = inv(A)"
   ]
  },
  {
   "cell_type": "markdown",
   "id": "4db4c18f",
   "metadata": {},
   "source": [
    "* Print out variable **inverse**. **[2 marks]**"
   ]
  },
  {
   "cell_type": "code",
   "execution_count": 12,
   "id": "a2af4327",
   "metadata": {},
   "outputs": [
    {
     "name": "stdout",
     "output_type": "stream",
     "text": [
      "[[0.34285714 0.17142857 0.02857143 0.05714286]\n",
      " [0.17142857 0.41904762 0.18095238 0.02857143]\n",
      " [0.02857143 0.18095238 0.41904762 0.17142857]\n",
      " [0.05714286 0.02857143 0.17142857 0.34285714]]\n"
     ]
    }
   ],
   "source": [
    "print(inverse)"
   ]
  },
  {
   "cell_type": "markdown",
   "id": "60881251",
   "metadata": {},
   "source": [
    "* Compute the product of matrix **A** and its inverse using the numpy **`dot`** function. Store the return value in variable **`I`**. **[4 marks]**"
   ]
  },
  {
   "cell_type": "code",
   "execution_count": 13,
   "id": "d06d17c0",
   "metadata": {},
   "outputs": [],
   "source": [
    "I = np.dot(A, inverse)"
   ]
  },
  {
   "cell_type": "markdown",
   "id": "6401ba0c",
   "metadata": {},
   "source": [
    "* Print out varible **I**. **[2 marks]**"
   ]
  },
  {
   "cell_type": "code",
   "execution_count": 14,
   "id": "370c53b5",
   "metadata": {},
   "outputs": [
    {
     "name": "stdout",
     "output_type": "stream",
     "text": [
      "[[ 1.00000000e+00  6.59194921e-17  0.00000000e+00  0.00000000e+00]\n",
      " [ 0.00000000e+00  1.00000000e+00 -8.32667268e-17  0.00000000e+00]\n",
      " [ 0.00000000e+00  2.08166817e-17  1.00000000e+00  0.00000000e+00]\n",
      " [ 2.77555756e-17  1.38777878e-17  0.00000000e+00  1.00000000e+00]]\n"
     ]
    }
   ],
   "source": [
    "print(I)"
   ]
  },
  {
   "cell_type": "markdown",
   "id": "aaad0d21",
   "metadata": {},
   "source": [
    "## **`Exercise 5. Compute eigenvalues of square matrix `**"
   ]
  },
  {
   "cell_type": "markdown",
   "id": "ab5c6dec",
   "metadata": {},
   "source": [
    "* Import the functions **`eig`** and **`eigvals`** from **numpy.linalg** sub-module. **[5 marks]**"
   ]
  },
  {
   "cell_type": "code",
   "execution_count": 16,
   "id": "d9f65c0e",
   "metadata": {},
   "outputs": [],
   "source": [
    "from numpy.linalg import eig, eigvals\n"
   ]
  },
  {
   "cell_type": "markdown",
   "id": "2c479ff1",
   "metadata": {},
   "source": [
    "* Compute the eigenvalues of matrix **A** using numpy **`eigvals`**. Store the return value in variable **eigenvalues**. **[3 marks]**"
   ]
  },
  {
   "cell_type": "code",
   "execution_count": 17,
   "id": "410f8f39",
   "metadata": {},
   "outputs": [],
   "source": [
    "eigenvalues = eigvals(A)"
   ]
  },
  {
   "cell_type": "markdown",
   "id": "daac3512",
   "metadata": {},
   "source": [
    "* Print out **eigenvalues**. **[2 marks]**"
   ]
  },
  {
   "cell_type": "code",
   "execution_count": 18,
   "id": "2bd643e5",
   "metadata": {},
   "outputs": [
    {
     "name": "stdout",
     "output_type": "stream",
     "text": [
      "[8.54138127 3.61803399 1.38196601 2.45861873]\n"
     ]
    }
   ],
   "source": [
    "print(eigenvalues)"
   ]
  },
  {
   "cell_type": "markdown",
   "id": "14dc2465",
   "metadata": {},
   "source": [
    "* Compute the eigenvalues and eigenvectors of matrix **A** using numpy **`eig`** function. Store the return values in variables **eigenvalues** and **eigenvectors**. **[5 marks]**"
   ]
  },
  {
   "cell_type": "code",
   "execution_count": 22,
   "id": "252682b9",
   "metadata": {},
   "outputs": [],
   "source": [
    "eigenvalues, eignvenctors = eig(A)"
   ]
  },
  {
   "cell_type": "markdown",
   "id": "8a495992",
   "metadata": {},
   "source": [
    "* Print out **eigenvalues**. **[2 marks]**"
   ]
  },
  {
   "cell_type": "code",
   "execution_count": 23,
   "id": "62a26753",
   "metadata": {},
   "outputs": [
    {
     "name": "stdout",
     "output_type": "stream",
     "text": [
      "[8.54138127 3.61803399 1.38196601 2.45861873]\n"
     ]
    }
   ],
   "source": [
    "print(eigenvalues)"
   ]
  },
  {
   "cell_type": "markdown",
   "id": "10918b70",
   "metadata": {},
   "source": [
    "* Print out **eigenvectors**. **[2 marks]**"
   ]
  },
  {
   "cell_type": "code",
   "execution_count": 24,
   "id": "ba86eb9b",
   "metadata": {},
   "outputs": [
    {
     "name": "stdout",
     "output_type": "stream",
     "text": [
      "[[ 0.45705607 -0.60150096  0.37174803 -0.5395366 ]\n",
      " [-0.5395366   0.37174803  0.60150096 -0.45705607]\n",
      " [ 0.5395366   0.37174803  0.60150096  0.45705607]\n",
      " [-0.45705607 -0.60150096  0.37174803  0.5395366 ]]\n"
     ]
    }
   ],
   "source": [
    "print(eignvenctors)"
   ]
  },
  {
   "cell_type": "code",
   "execution_count": null,
   "id": "8fcdb517",
   "metadata": {},
   "outputs": [],
   "source": []
  }
 ],
 "metadata": {
  "kernelspec": {
   "display_name": ".venv",
   "language": "python",
   "name": "python3"
  },
  "language_info": {
   "codemirror_mode": {
    "name": "ipython",
    "version": 3
   },
   "file_extension": ".py",
   "mimetype": "text/x-python",
   "name": "python",
   "nbconvert_exporter": "python",
   "pygments_lexer": "ipython3",
   "version": "3.8.10"
  }
 },
 "nbformat": 4,
 "nbformat_minor": 5
}
