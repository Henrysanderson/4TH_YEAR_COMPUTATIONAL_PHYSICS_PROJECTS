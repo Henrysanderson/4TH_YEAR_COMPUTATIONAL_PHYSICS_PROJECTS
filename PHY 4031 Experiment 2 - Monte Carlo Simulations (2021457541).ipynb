{
 "cells": [
  {
   "cell_type": "markdown",
   "id": "b563d5b9",
   "metadata": {},
   "source": [
    "# **`PHY 4031 Experiment 2 : Monte Carlo Integration`**"
   ]
  },
  {
   "cell_type": "markdown",
   "id": "8b6b4eb3",
   "metadata": {},
   "source": [
    "## **`AIM`**\n",
    "Monte Carlo simulation is a method for finding a mathematical solution to a problem using random numbers. Monte Carlo methods find their application in many fields including Physics. In this laboratory exercise, you will apply Monte carlo methods to\n",
    "\n",
    "* approximate the value of an integral"
   ]
  },
  {
   "cell_type": "markdown",
   "id": "5924dc5a",
   "metadata": {},
   "source": [
    "## **`Approximation of an Integral`**\n",
    "We wish to evaluate the integral\n",
    "\\begin{equation}\n",
    "I = \\int_{a}^{b} f(x)dx\n",
    "\\end{equation}"
   ]
  },
  {
   "cell_type": "markdown",
   "id": "7d952acc",
   "metadata": {},
   "source": [
    "If the average value of $f(x)$ in the interval [a,b] is $\\bar{f}$ then\n",
    "\n",
    "\\begin{equation}\n",
    "\\bar{f} = \\dfrac{I}{b-a}\n",
    "\\end{equation}\n",
    "\n",
    "So that\n",
    "\n",
    "\\begin{equation}\n",
    "I = (b-a)\\bar{f}\n",
    "\\end{equation}"
   ]
  },
  {
   "cell_type": "markdown",
   "id": "cf0f4756",
   "metadata": {},
   "source": [
    "Suppose we choose $x_{1}$, $x_{2}$, $x_{3}$,..., $x_{n}$ randomly in the interval [a,b] and use these to estimate the average value of $f(x)$:\n",
    "\n",
    "\\begin{equation}\n",
    "\\bar{f} = \\dfrac{1}{n}f(x_{i})\n",
    "\\end{equation}\n",
    "\n",
    "then \n",
    "\\begin{equation}\n",
    "I \\approx \\dfrac{b-a}{n}\\sum_{n=1}^{n}f(x_{i}) = (b-a) \\cdot \\bar{f}\n",
    "\\end{equation}"
   ]
  },
  {
   "cell_type": "markdown",
   "id": "d216c100",
   "metadata": {},
   "source": [
    "This is the Monte Carlo integration. Even integrals of complex functions can be approximated using this method. The larger the value of $n$ the more accurate the approximation."
   ]
  },
  {
   "cell_type": "markdown",
   "id": "6b9495d8",
   "metadata": {},
   "source": [
    "### **`Exercise 1`**\n",
    "In this exercise you are going to use the Monte carlo integration to approxomate the integral of a somewhat complex function.\n",
    "\n",
    "\\begin{equation}\n",
    "f(x) = \\int_{0}^{2\\pi}e^{-x}\\sin{x}\n",
    "\\end{equation}"
   ]
  },
  {
   "cell_type": "markdown",
   "id": "1c4444ba",
   "metadata": {},
   "source": [
    "The exact value, from integration by parts is\n",
    "\n",
    "$$ ei = \\dfrac{1}{2}\\left(1 - e^{2\\pi}\\right) = 0.4990663$$"
   ]
  },
  {
   "cell_type": "markdown",
   "id": "6dcdc3c6",
   "metadata": {},
   "source": [
    "* Import **`numpy`** using the alias **`np`**"
   ]
  },
  {
   "cell_type": "code",
   "execution_count": 1,
   "id": "5fff493c",
   "metadata": {},
   "outputs": [],
   "source": [
    "import numpy as np"
   ]
  },
  {
   "cell_type": "markdown",
   "id": "bd55c949",
   "metadata": {},
   "source": [
    "* Save the contents of **`np`** module in a variable **`contents`** using the **`dir()`** function."
   ]
  },
  {
   "cell_type": "code",
   "execution_count": 2,
   "id": "8758acb1",
   "metadata": {},
   "outputs": [],
   "source": [
    "contents = dir(np)"
   ]
  },
  {
   "cell_type": "markdown",
   "id": "fad0dace",
   "metadata": {},
   "source": [
    "* Print the list **`contents`**."
   ]
  },
  {
   "cell_type": "code",
   "execution_count": 3,
   "id": "bd74d5e1",
   "metadata": {},
   "outputs": [
    {
     "name": "stdout",
     "output_type": "stream",
     "text": [
      "['ALLOW_THREADS', 'AxisError', 'BUFSIZE', 'CLIP', 'ComplexWarning', 'DataSource', 'ERR_CALL', 'ERR_DEFAULT', 'ERR_IGNORE', 'ERR_LOG', 'ERR_PRINT', 'ERR_RAISE', 'ERR_WARN', 'FLOATING_POINT_SUPPORT', 'FPE_DIVIDEBYZERO', 'FPE_INVALID', 'FPE_OVERFLOW', 'FPE_UNDERFLOW', 'False_', 'Inf', 'Infinity', 'MAXDIMS', 'MAY_SHARE_BOUNDS', 'MAY_SHARE_EXACT', 'ModuleDeprecationWarning', 'NAN', 'NINF', 'NZERO', 'NaN', 'PINF', 'PZERO', 'RAISE', 'RankWarning', 'SHIFT_DIVIDEBYZERO', 'SHIFT_INVALID', 'SHIFT_OVERFLOW', 'SHIFT_UNDERFLOW', 'ScalarType', 'Tester', 'TooHardError', 'True_', 'UFUNC_BUFSIZE_DEFAULT', 'UFUNC_PYVALS_NAME', 'VisibleDeprecationWarning', 'WRAP', '_CopyMode', '_NoValue', '_UFUNC_API', '__NUMPY_SETUP__', '__all__', '__builtins__', '__cached__', '__config__', '__deprecated_attrs__', '__dir__', '__doc__', '__expired_functions__', '__file__', '__former_attrs__', '__future_scalars__', '__getattr__', '__git_version__', '__loader__', '__name__', '__package__', '__path__', '__spec__', '__version__', '_add_newdoc_ufunc', '_builtins', '_distributor_init', '_financial_names', '_get_promotion_state', '_globals', '_int_extended_msg', '_mat', '_no_nep50_warning', '_pyinstaller_hooks_dir', '_pytesttester', '_set_promotion_state', '_specific_msg', '_version', 'abs', 'absolute', 'add', 'add_docstring', 'add_newdoc', 'add_newdoc_ufunc', 'all', 'allclose', 'alltrue', 'amax', 'amin', 'angle', 'any', 'append', 'apply_along_axis', 'apply_over_axes', 'arange', 'arccos', 'arccosh', 'arcsin', 'arcsinh', 'arctan', 'arctan2', 'arctanh', 'argmax', 'argmin', 'argpartition', 'argsort', 'argwhere', 'around', 'array', 'array2string', 'array_equal', 'array_equiv', 'array_repr', 'array_split', 'array_str', 'asanyarray', 'asarray', 'asarray_chkfinite', 'ascontiguousarray', 'asfarray', 'asfortranarray', 'asmatrix', 'atleast_1d', 'atleast_2d', 'atleast_3d', 'average', 'bartlett', 'base_repr', 'binary_repr', 'bincount', 'bitwise_and', 'bitwise_not', 'bitwise_or', 'bitwise_xor', 'blackman', 'block', 'bmat', 'bool_', 'broadcast', 'broadcast_arrays', 'broadcast_shapes', 'broadcast_to', 'busday_count', 'busday_offset', 'busdaycalendar', 'byte', 'byte_bounds', 'bytes_', 'c_', 'can_cast', 'cast', 'cbrt', 'cdouble', 'ceil', 'cfloat', 'char', 'character', 'chararray', 'choose', 'clip', 'clongdouble', 'clongfloat', 'column_stack', 'common_type', 'compare_chararrays', 'compat', 'complex128', 'complex256', 'complex64', 'complex_', 'complexfloating', 'compress', 'concatenate', 'conj', 'conjugate', 'convolve', 'copy', 'copysign', 'copyto', 'corrcoef', 'correlate', 'cos', 'cosh', 'count_nonzero', 'cov', 'cross', 'csingle', 'ctypeslib', 'cumprod', 'cumproduct', 'cumsum', 'datetime64', 'datetime_as_string', 'datetime_data', 'deg2rad', 'degrees', 'delete', 'deprecate', 'deprecate_with_doc', 'diag', 'diag_indices', 'diag_indices_from', 'diagflat', 'diagonal', 'diff', 'digitize', 'disp', 'divide', 'divmod', 'dot', 'double', 'dsplit', 'dstack', 'dtype', 'e', 'ediff1d', 'einsum', 'einsum_path', 'emath', 'empty', 'empty_like', 'equal', 'errstate', 'euler_gamma', 'exp', 'exp2', 'expand_dims', 'expm1', 'extract', 'eye', 'fabs', 'fastCopyAndTranspose', 'fft', 'fill_diagonal', 'find_common_type', 'finfo', 'fix', 'flatiter', 'flatnonzero', 'flexible', 'flip', 'fliplr', 'flipud', 'float128', 'float16', 'float32', 'float64', 'float_', 'float_power', 'floating', 'floor', 'floor_divide', 'fmax', 'fmin', 'fmod', 'format_float_positional', 'format_float_scientific', 'format_parser', 'frexp', 'from_dlpack', 'frombuffer', 'fromfile', 'fromfunction', 'fromiter', 'frompyfunc', 'fromregex', 'fromstring', 'full', 'full_like', 'gcd', 'generic', 'genfromtxt', 'geomspace', 'get_array_wrap', 'get_include', 'get_printoptions', 'getbufsize', 'geterr', 'geterrcall', 'geterrobj', 'gradient', 'greater', 'greater_equal', 'half', 'hamming', 'hanning', 'heaviside', 'histogram', 'histogram2d', 'histogram_bin_edges', 'histogramdd', 'hsplit', 'hstack', 'hypot', 'i0', 'identity', 'iinfo', 'imag', 'in1d', 'index_exp', 'indices', 'inexact', 'inf', 'info', 'infty', 'inner', 'insert', 'int16', 'int32', 'int64', 'int8', 'int_', 'intc', 'integer', 'interp', 'intersect1d', 'intp', 'invert', 'is_busday', 'isclose', 'iscomplex', 'iscomplexobj', 'isfinite', 'isfortran', 'isin', 'isinf', 'isnan', 'isnat', 'isneginf', 'isposinf', 'isreal', 'isrealobj', 'isscalar', 'issctype', 'issubclass_', 'issubdtype', 'issubsctype', 'iterable', 'ix_', 'kaiser', 'kernel_version', 'kron', 'lcm', 'ldexp', 'left_shift', 'less', 'less_equal', 'lexsort', 'lib', 'linalg', 'linspace', 'little_endian', 'load', 'loadtxt', 'log', 'log10', 'log1p', 'log2', 'logaddexp', 'logaddexp2', 'logical_and', 'logical_not', 'logical_or', 'logical_xor', 'logspace', 'longcomplex', 'longdouble', 'longfloat', 'longlong', 'lookfor', 'ma', 'mask_indices', 'mat', 'math', 'matmul', 'matrix', 'max', 'maximum', 'maximum_sctype', 'may_share_memory', 'mean', 'median', 'memmap', 'meshgrid', 'mgrid', 'min', 'min_scalar_type', 'minimum', 'mintypecode', 'mod', 'modf', 'moveaxis', 'msort', 'multiply', 'nan', 'nan_to_num', 'nanargmax', 'nanargmin', 'nancumprod', 'nancumsum', 'nanmax', 'nanmean', 'nanmedian', 'nanmin', 'nanpercentile', 'nanprod', 'nanquantile', 'nanstd', 'nansum', 'nanvar', 'nbytes', 'ndarray', 'ndenumerate', 'ndim', 'ndindex', 'nditer', 'negative', 'nested_iters', 'newaxis', 'nextafter', 'nonzero', 'not_equal', 'numarray', 'number', 'obj2sctype', 'object_', 'ogrid', 'oldnumeric', 'ones', 'ones_like', 'outer', 'packbits', 'pad', 'partition', 'percentile', 'pi', 'piecewise', 'place', 'poly', 'poly1d', 'polyadd', 'polyder', 'polydiv', 'polyfit', 'polyint', 'polymul', 'polynomial', 'polysub', 'polyval', 'positive', 'power', 'printoptions', 'prod', 'product', 'promote_types', 'ptp', 'put', 'put_along_axis', 'putmask', 'quantile', 'r_', 'rad2deg', 'radians', 'random', 'ravel', 'ravel_multi_index', 'real', 'real_if_close', 'rec', 'recarray', 'recfromcsv', 'recfromtxt', 'reciprocal', 'record', 'remainder', 'repeat', 'require', 'reshape', 'resize', 'result_type', 'right_shift', 'rint', 'roll', 'rollaxis', 'roots', 'rot90', 'round', 'round_', 'row_stack', 's_', 'safe_eval', 'save', 'savetxt', 'savez', 'savez_compressed', 'sctype2char', 'sctypeDict', 'sctypes', 'searchsorted', 'select', 'set_numeric_ops', 'set_printoptions', 'set_string_function', 'setbufsize', 'setdiff1d', 'seterr', 'seterrcall', 'seterrobj', 'setxor1d', 'shape', 'shares_memory', 'short', 'show_config', 'show_runtime', 'sign', 'signbit', 'signedinteger', 'sin', 'sinc', 'single', 'singlecomplex', 'sinh', 'size', 'sometrue', 'sort', 'sort_complex', 'source', 'spacing', 'split', 'sqrt', 'square', 'squeeze', 'stack', 'std', 'str_', 'string_', 'subtract', 'sum', 'swapaxes', 'take', 'take_along_axis', 'tan', 'tanh', 'tensordot', 'test', 'testing', 'tile', 'timedelta64', 'trace', 'tracemalloc_domain', 'transpose', 'trapz', 'tri', 'tril', 'tril_indices', 'tril_indices_from', 'trim_zeros', 'triu', 'triu_indices', 'triu_indices_from', 'true_divide', 'trunc', 'typecodes', 'typename', 'ubyte', 'ufunc', 'uint', 'uint16', 'uint32', 'uint64', 'uint8', 'uintc', 'uintp', 'ulonglong', 'unicode_', 'union1d', 'unique', 'unpackbits', 'unravel_index', 'unsignedinteger', 'unwrap', 'use_hugepage', 'ushort', 'vander', 'var', 'vdot', 'vectorize', 'version', 'void', 'vsplit', 'vstack', 'where', 'who', 'zeros', 'zeros_like']\n"
     ]
    }
   ],
   "source": [
    "print(contents)"
   ]
  },
  {
   "cell_type": "markdown",
   "id": "c7c8eb4b",
   "metadata": {},
   "source": [
    "* Create a variable **`N`** and set its value to **`50000`**."
   ]
  },
  {
   "cell_type": "code",
   "execution_count": 4,
   "id": "442cf48d",
   "metadata": {},
   "outputs": [],
   "source": [
    "N = 50000"
   ]
  },
  {
   "cell_type": "markdown",
   "id": "f258eb04",
   "metadata": {},
   "source": [
    "* Print the variable **`N`**"
   ]
  },
  {
   "cell_type": "code",
   "execution_count": 5,
   "id": "b5bc777c",
   "metadata": {},
   "outputs": [
    {
     "name": "stdout",
     "output_type": "stream",
     "text": [
      "50000\n"
     ]
    }
   ],
   "source": [
    "print(N)"
   ]
  },
  {
   "cell_type": "markdown",
   "id": "4bab5d2c",
   "metadata": {},
   "source": [
    "* Create variable **`a`** and set it to **`0`**"
   ]
  },
  {
   "cell_type": "code",
   "execution_count": 6,
   "id": "3b086eeb",
   "metadata": {},
   "outputs": [],
   "source": [
    "a = 0"
   ]
  },
  {
   "cell_type": "markdown",
   "id": "ecaafbe0",
   "metadata": {},
   "source": [
    "* Print variable **`a`**"
   ]
  },
  {
   "cell_type": "code",
   "execution_count": 8,
   "id": "8b55d3f3",
   "metadata": {},
   "outputs": [
    {
     "name": "stdout",
     "output_type": "stream",
     "text": [
      "0\n"
     ]
    }
   ],
   "source": [
    "print(a)"
   ]
  },
  {
   "cell_type": "markdown",
   "id": "d8b8c91f",
   "metadata": {},
   "source": [
    "* From **`numpy`** import the variable **`pi`**."
   ]
  },
  {
   "cell_type": "code",
   "execution_count": 9,
   "id": "60140020",
   "metadata": {},
   "outputs": [],
   "source": [
    "from numpy import pi"
   ]
  },
  {
   "cell_type": "markdown",
   "id": "6f059043",
   "metadata": {},
   "source": [
    "* Print out variable **`pi`**"
   ]
  },
  {
   "cell_type": "code",
   "execution_count": 10,
   "id": "7a86337e",
   "metadata": {},
   "outputs": [
    {
     "name": "stdout",
     "output_type": "stream",
     "text": [
      "3.141592653589793\n"
     ]
    }
   ],
   "source": [
    "print(pi)"
   ]
  },
  {
   "cell_type": "markdown",
   "id": "ffec1046",
   "metadata": {},
   "source": [
    "* Create variable **`b`** and set it to $2\\pi$"
   ]
  },
  {
   "cell_type": "code",
   "execution_count": 11,
   "id": "619d9520",
   "metadata": {},
   "outputs": [],
   "source": [
    "b = 2*pi"
   ]
  },
  {
   "cell_type": "markdown",
   "id": "20a33a3a",
   "metadata": {},
   "source": [
    "* Print variable **`b`**"
   ]
  },
  {
   "cell_type": "code",
   "execution_count": 12,
   "id": "090bc5f4",
   "metadata": {},
   "outputs": [
    {
     "name": "stdout",
     "output_type": "stream",
     "text": [
      "6.283185307179586\n"
     ]
    }
   ],
   "source": [
    "print(b)"
   ]
  },
  {
   "cell_type": "markdown",
   "id": "9c155751",
   "metadata": {},
   "source": [
    "* Import **`rand()`** function from **`numpy.random`** module "
   ]
  },
  {
   "cell_type": "code",
   "execution_count": 13,
   "id": "d3ce508f",
   "metadata": {},
   "outputs": [],
   "source": [
    "from numpy.random import rand"
   ]
  },
  {
   "cell_type": "markdown",
   "id": "ae8e7e31",
   "metadata": {},
   "source": [
    "* Display help on **`rand()`**"
   ]
  },
  {
   "cell_type": "code",
   "execution_count": 14,
   "id": "91e741b5",
   "metadata": {},
   "outputs": [
    {
     "name": "stdout",
     "output_type": "stream",
     "text": [
      "Help on built-in function rand:\n",
      "\n",
      "rand(...) method of numpy.random.mtrand.RandomState instance\n",
      "    rand(d0, d1, ..., dn)\n",
      "    \n",
      "    Random values in a given shape.\n",
      "    \n",
      "    .. note::\n",
      "        This is a convenience function for users porting code from Matlab,\n",
      "        and wraps `random_sample`. That function takes a\n",
      "        tuple to specify the size of the output, which is consistent with\n",
      "        other NumPy functions like `numpy.zeros` and `numpy.ones`.\n",
      "    \n",
      "    Create an array of the given shape and populate it with\n",
      "    random samples from a uniform distribution\n",
      "    over ``[0, 1)``.\n",
      "    \n",
      "    Parameters\n",
      "    ----------\n",
      "    d0, d1, ..., dn : int, optional\n",
      "        The dimensions of the returned array, must be non-negative.\n",
      "        If no argument is given a single Python float is returned.\n",
      "    \n",
      "    Returns\n",
      "    -------\n",
      "    out : ndarray, shape ``(d0, d1, ..., dn)``\n",
      "        Random values.\n",
      "    \n",
      "    See Also\n",
      "    --------\n",
      "    random\n",
      "    \n",
      "    Examples\n",
      "    --------\n",
      "    >>> np.random.rand(3,2)\n",
      "    array([[ 0.14022471,  0.96360618],  #random\n",
      "           [ 0.37601032,  0.25528411],  #random\n",
      "           [ 0.49313049,  0.94909878]]) #random\n",
      "\n"
     ]
    }
   ],
   "source": [
    "help(rand)"
   ]
  },
  {
   "cell_type": "markdown",
   "id": "05e87e20",
   "metadata": {},
   "source": [
    "* Generate an numpy array of **`N`** real random numbers in the range **`[0,1)`** and store them in variable **`E`**."
   ]
  },
  {
   "cell_type": "code",
   "execution_count": 15,
   "id": "25ee3ddb",
   "metadata": {},
   "outputs": [],
   "source": [
    "E = rand(N)"
   ]
  },
  {
   "cell_type": "markdown",
   "id": "4ba6c204",
   "metadata": {},
   "source": [
    "* Print out numpy array **`E`**."
   ]
  },
  {
   "cell_type": "code",
   "execution_count": 16,
   "id": "76615c3a",
   "metadata": {},
   "outputs": [
    {
     "name": "stdout",
     "output_type": "stream",
     "text": [
      "[0.97113607 0.67342812 0.45744045 ... 0.71842281 0.19656003 0.60661647]\n"
     ]
    }
   ],
   "source": [
    "print(E)"
   ]
  },
  {
   "cell_type": "markdown",
   "id": "da56c36e",
   "metadata": {},
   "source": [
    "* Print out the number of items in numpy array **`E`** using attribute **`size`**."
   ]
  },
  {
   "cell_type": "code",
   "execution_count": 18,
   "id": "d2643889",
   "metadata": {},
   "outputs": [
    {
     "name": "stdout",
     "output_type": "stream",
     "text": [
      "50000\n"
     ]
    }
   ],
   "source": [
    "print(np.size(E))"
   ]
  },
  {
   "cell_type": "markdown",
   "id": "4aec82c0",
   "metadata": {},
   "source": [
    "* Create a random numpy array $x$ of **`N`** real random numbers in the interval $\\ a \\le x \\le b$ using the random array **`E`** as follows\n",
    "\n",
    "\\begin{equation*}\n",
    " x = a + (b - a) \\cdot \\epsilon\n",
    "\\end{equation*}"
   ]
  },
  {
   "cell_type": "code",
   "execution_count": null,
   "id": "b1d2252a",
   "metadata": {},
   "outputs": [],
   "source": [
    "x = a + (b - a) * E"
   ]
  },
  {
   "cell_type": "markdown",
   "id": "7aa6d2fc",
   "metadata": {},
   "source": [
    "* Print random numpy array $x$ "
   ]
  },
  {
   "cell_type": "code",
   "execution_count": 24,
   "id": "e5c0f3f9",
   "metadata": {},
   "outputs": [
    {
     "name": "stdout",
     "output_type": "stream",
     "text": [
      "[6.10182791 4.23127367 2.87418314 ... 4.51398364 1.23502308 3.81148369]\n"
     ]
    }
   ],
   "source": [
    "print(x)"
   ]
  },
  {
   "cell_type": "markdown",
   "id": "2cb61143",
   "metadata": {},
   "source": [
    "* Print the size of random numpy array $x$"
   ]
  },
  {
   "cell_type": "code",
   "execution_count": 25,
   "id": "ce79ade6",
   "metadata": {},
   "outputs": [
    {
     "name": "stdout",
     "output_type": "stream",
     "text": [
      "50000\n"
     ]
    }
   ],
   "source": [
    "print(np.size(x))"
   ]
  },
  {
   "cell_type": "markdown",
   "id": "f7ada341",
   "metadata": {},
   "source": [
    "* Create the lambda function\n",
    "\n",
    "\\begin{equation*}\n",
    "f(x) = e^{-x} \\sin(x)\n",
    "\\end{equation*}"
   ]
  },
  {
   "cell_type": "code",
   "execution_count": 26,
   "id": "627fdded",
   "metadata": {},
   "outputs": [],
   "source": [
    "f = lambda x: np.exp(-x) * np.sin(x)"
   ]
  },
  {
   "cell_type": "markdown",
   "id": "0300666f",
   "metadata": {},
   "source": [
    "* Evaluate the function $f(x)$ at $x$ and store the value in variable $y$.\n",
    "\\begin{equation*}\n",
    "y = f(x)\n",
    "\\end{equation*}"
   ]
  },
  {
   "cell_type": "code",
   "execution_count": 27,
   "id": "875a1426",
   "metadata": {},
   "outputs": [],
   "source": [
    "y = f(x)"
   ]
  },
  {
   "cell_type": "markdown",
   "id": "131e6558",
   "metadata": {},
   "source": [
    "* Print out the random numpy array $y$."
   ]
  },
  {
   "cell_type": "code",
   "execution_count": 28,
   "id": "8dbe0a45",
   "metadata": {},
   "outputs": [
    {
     "name": "stdout",
     "output_type": "stream",
     "text": [
      "[-0.0004038  -0.01288397  0.01491924 ... -0.01073983  0.27458699\n",
      " -0.01373143]\n"
     ]
    }
   ],
   "source": [
    "print(y)"
   ]
  },
  {
   "cell_type": "markdown",
   "id": "33cf972e",
   "metadata": {},
   "source": [
    "* Import **`matplotlib.pyplot`** module using alias **`plt`**"
   ]
  },
  {
   "cell_type": "code",
   "execution_count": 30,
   "id": "89c2e769",
   "metadata": {},
   "outputs": [],
   "source": [
    "import matplotlib.pyplot as plt"
   ]
  },
  {
   "cell_type": "markdown",
   "id": "eae51b1f",
   "metadata": {},
   "source": [
    "* Create a scatter plot of random arrays $x$ against $y$"
   ]
  },
  {
   "cell_type": "code",
   "execution_count": 31,
   "id": "7643b8ee",
   "metadata": {},
   "outputs": [
    {
     "data": {
      "image/png": "[encoded data removed]",
      "text/plain": [
       "<Figure size 640x480 with 1 Axes>"
      ]
     },
     "metadata": {},
     "output_type": "display_data"
    }
   ],
   "source": [
    "# create plot figure\n",
    "plt.figure()\n",
    "# create scatter plot of y against x\n",
    "plt.scatter(x, y)\n",
    "# add y label \"$y$\"\n",
    "plt.ylabel(\"$y$\")\n",
    "# add x label \"$x$\"\n",
    "plt.xlabel(\"$x$\")\n",
    "# add grid\n",
    "plt.grid(True)\n",
    "# show grid \n",
    "plt.show()\n"
   ]
  },
  {
   "cell_type": "markdown",
   "id": "c885f289",
   "metadata": {},
   "source": [
    "* Calculate the mean value of random numpy array $y$ and save it as **`average`** using the numpy **`mean`** function\n",
    "\n",
    "\\begin{equation*}\n",
    "\\bar{y} = \\dfrac{\\sum y}{N}\n",
    "\\end{equation*}"
   ]
  },
  {
   "cell_type": "code",
   "execution_count": 32,
   "id": "a881ddbe",
   "metadata": {},
   "outputs": [],
   "source": [
    "average = np.mean(y)"
   ]
  },
  {
   "cell_type": "markdown",
   "id": "f4ad1024",
   "metadata": {},
   "source": [
    "* Print out **`average`**"
   ]
  },
  {
   "cell_type": "code",
   "execution_count": 33,
   "id": "91c99fef",
   "metadata": {},
   "outputs": [
    {
     "name": "stdout",
     "output_type": "stream",
     "text": [
      "0.07932399263659928\n"
     ]
    }
   ],
   "source": [
    "print(average)"
   ]
  },
  {
   "cell_type": "markdown",
   "id": "5cf5946b",
   "metadata": {},
   "source": [
    "* Next, we now calculate the integral **`I`** using the mathematical expression.\n",
    "\n",
    "\\begin{equation*}\n",
    "I = (b-a)\\cdot \\bar{y} \n",
    "\\end{equation*}"
   ]
  },
  {
   "cell_type": "code",
   "execution_count": 35,
   "id": "6eaee5ba",
   "metadata": {},
   "outputs": [],
   "source": [
    "I = (b - a) * average"
   ]
  },
  {
   "cell_type": "markdown",
   "id": "c61868b1",
   "metadata": {},
   "source": [
    "* Print out the integral **`I`**"
   ]
  },
  {
   "cell_type": "code",
   "execution_count": 36,
   "id": "7a34f29a",
   "metadata": {},
   "outputs": [
    {
     "name": "stdout",
     "output_type": "stream",
     "text": [
      "0.4984073450411023\n"
     ]
    }
   ],
   "source": [
    "print(I)"
   ]
  },
  {
   "cell_type": "code",
   "execution_count": null,
   "id": "0017d20f",
   "metadata": {},
   "outputs": [],
   "source": []
  }
 ],
 "metadata": {
  "kernelspec": {
   "display_name": ".venv",
   "language": "python",
   "name": "python3"
  },
  "language_info": {
   "codemirror_mode": {
    "name": "ipython",
    "version": 3
   },
   "file_extension": ".py",
   "mimetype": "text/x-python",
   "name": "python",
   "nbconvert_exporter": "python",
   "pygments_lexer": "ipython3",
   "version": "3.8.10"
  }
 },
 "nbformat": 4,
 "nbformat_minor": 5
}
