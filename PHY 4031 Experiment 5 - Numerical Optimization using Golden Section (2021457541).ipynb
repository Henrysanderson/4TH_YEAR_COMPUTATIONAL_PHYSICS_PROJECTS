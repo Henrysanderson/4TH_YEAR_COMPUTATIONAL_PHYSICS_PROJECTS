{
 "cells": [
  {
   "cell_type": "markdown",
   "metadata": {},
   "source": [
    "# **`Experiment 5: Numerical Optimization Using Golden Section Method`**"
   ]
  },
  {
   "cell_type": "code",
   "execution_count": 2,
   "metadata": {},
   "outputs": [],
   "source": [
    "# importing modules\n",
    "import numpy as np\n",
    "import matplotlib.pyplot as plt\n",
    "from scipy.optimize import minimize_scalar"
   ]
  },
  {
   "cell_type": "markdown",
   "metadata": {},
   "source": [
    "### The equation is\n",
    "$$\n",
    "f(x) = x^2 - 2x + 1\n",
    "$$\n"
   ]
  },
  {
   "cell_type": "code",
   "execution_count": 16,
   "metadata": {},
   "outputs": [],
   "source": [
    "# Define the lambda function to be minimized\n",
    "f = lambda x: x**2 - 2*x + 1"
   ]
  },
  {
   "cell_type": "markdown",
   "metadata": {},
   "source": [
    "### The Interval is\n",
    "$$\n",
    "I = [0,2]\n",
    "$$"
   ]
  },
  {
   "cell_type": "markdown",
   "metadata": {},
   "source": [
    "# 1. *Using SCipy*"
   ]
  },
  {
   "cell_type": "code",
   "execution_count": 17,
   "metadata": {},
   "outputs": [],
   "source": [
    "# Define the interval for the minimization\n",
    "x = np.linspace(0,4)"
   ]
  },
  {
   "cell_type": "code",
   "execution_count": 18,
   "metadata": {},
   "outputs": [
    {
     "name": "stdout",
     "output_type": "stream",
     "text": [
      "[0.         0.08163265 0.16326531 0.24489796 0.32653061 0.40816327\n",
      " 0.48979592 0.57142857 0.65306122 0.73469388 0.81632653 0.89795918\n",
      " 0.97959184 1.06122449 1.14285714 1.2244898  1.30612245 1.3877551\n",
      " 1.46938776 1.55102041 1.63265306 1.71428571 1.79591837 1.87755102\n",
      " 1.95918367 2.04081633 2.12244898 2.20408163 2.28571429 2.36734694\n",
      " 2.44897959 2.53061224 2.6122449  2.69387755 2.7755102  2.85714286\n",
      " 2.93877551 3.02040816 3.10204082 3.18367347 3.26530612 3.34693878\n",
      " 3.42857143 3.51020408 3.59183673 3.67346939 3.75510204 3.83673469\n",
      " 3.91836735 4.        ]\n"
     ]
    }
   ],
   "source": [
    "# print the interval\n",
    "print(x)"
   ]
  },
  {
   "cell_type": "code",
   "execution_count": 19,
   "metadata": {},
   "outputs": [],
   "source": [
    "# minimize the function using the golden section search method\n",
    "result = minimize_scalar(f, bounds=(0, 4), method='bounded')"
   ]
  },
  {
   "cell_type": "code",
   "execution_count": 20,
   "metadata": {},
   "outputs": [
    {
     "name": "stdout",
     "output_type": "stream",
     "text": [
      "Minimum found at x = 1\n",
      "Function value at minimum = 0\n"
     ]
    }
   ],
   "source": [
    "# print the result\n",
    "print(\"Minimum found at x =\", round(result.x))\n",
    "print(\"Function value at minimum =\", round(result.fun))"
   ]
  },
  {
   "cell_type": "code",
   "execution_count": 21,
   "metadata": {},
   "outputs": [
    {
     "data": {
      "image/png": "[encoded data removed]",
      "text/plain": [
       "<Figure size 640x480 with 1 Axes>"
      ]
     },
     "metadata": {},
     "output_type": "display_data"
    }
   ],
   "source": [
    "# ploting the function\n",
    "plt.plot(x, f(x), label='f(x)')\n",
    "plt.axhline(0, color='black', lw=0.5)\n",
    "plt.axvline(0, color='black', lw=0.5)\n",
    "plt.scatter(result.x, result.fun, color='red', label='Minimum')\n",
    "plt.title('Minimization of f(x)')\n",
    "plt.xlabel('x')\n",
    "plt.ylabel('f(x)')\n",
    "plt.legend()\n",
    "plt.grid()\n",
    "plt.show()"
   ]
  },
  {
   "cell_type": "markdown",
   "metadata": {},
   "source": [
    "# 2. *Using a written algorithm*"
   ]
  },
  {
   "cell_type": "code",
   "execution_count": null,
   "metadata": {},
   "outputs": [
    {
     "name": "stdout",
     "output_type": "stream",
     "text": [
      "Minimum found at x = 1.0\n"
     ]
    }
   ],
   "source": [
    "import math\n",
    "\n",
    "def golden_section(f, a, b, tol=1e-5, max_iter=500):\n",
    "    \"\"\"\n",
    "    Finds the minimum of a unimodal function using the golden section search method.\n",
    "\n",
    "    Args:\n",
    "        f (callable): The function to minimize.\n",
    "        a (float): The left boundary of the interval.\n",
    "        b (float): The right boundary of the interval.\n",
    "        tol (float, optional): The tolerance for convergence. Defaults to 1e-5.\n",
    "        max_iter (int, optional): The maximum number of iterations. Defaults to 500.\n",
    "\n",
    "    Returns:\n",
    "        float: The approximate location of the minimum.\n",
    "    \"\"\"\n",
    "    phi = (1 + math.sqrt(5)) / 2  # Golden ratio\n",
    "    c = b - (b - a) / phi\n",
    "    d = a + (b - a) / phi\n",
    "    \n",
    "    n_iter = 0\n",
    "    while abs(b - a) > tol and n_iter < max_iter:\n",
    "        if f(c) < f(d):\n",
    "            b = d\n",
    "            d = c\n",
    "            c = b - (b - a) / phi\n",
    "        else:\n",
    "            a = c\n",
    "            c = d\n",
    "            d = a + (b - a) / phi\n",
    "        n_iter += 1\n",
    "\n",
    "    return (a + b) / 2\n",
    "\n",
    "if __name__ == '__main__':\n",
    "    # usage:\n",
    "    def f(x):\n",
    "        return x**2 - 2*x + 1  \n",
    "\n",
    "    a = 0\n",
    "    b = 4\n",
    "    minimum = golden_section(f, a, b)\n",
    "    print(f\"Minimum found at x = {minimum:.1f}\")"
   ]
  },
  {
   "cell_type": "code",
   "execution_count": null,
   "metadata": {},
   "outputs": [],
   "source": []
  }
 ],
 "metadata": {
  "kernelspec": {
   "display_name": ".venv",
   "language": "python",
   "name": "python3"
  },
  "language_info": {
   "codemirror_mode": {
    "name": "ipython",
    "version": 3
   },
   "file_extension": ".py",
   "mimetype": "text/x-python",
   "name": "python",
   "nbconvert_exporter": "python",
   "pygments_lexer": "ipython3",
   "version": "3.8.10"
  }
 },
 "nbformat": 4,
 "nbformat_minor": 2
}
