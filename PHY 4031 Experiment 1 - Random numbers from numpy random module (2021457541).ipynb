{
 "cells": [
  {
   "cell_type": "markdown",
   "id": "c89edfee",
   "metadata": {},
   "source": [
    "# **`PHY 4031 Experiment 1 : Random numbers from numpy random module`**"
   ]
  },
  {
   "cell_type": "markdown",
   "id": "d4242daa",
   "metadata": {},
   "source": [
    "## **`AIM`**\n",
    "\n",
    "The Python **`Numpy`** library comes with a **`random`** module that contains functions for generating random numbers. This **`numpy.random`** module some simple random data generation methods, some permutation and distribution functions, and random generator functions. In this experiment, we are going to consider the Python **`numpy.random`** module  to\n",
    "\n",
    "- **`produce lists of real random numbers between 0 and 1;`**\n",
    "- **`produce a lists of integer random numbers within a given range;`**\n",
    "- **`produce a lists of real random numbers within a range;`**\n",
    "- **`produce a different random number sequence for each invocation`**"
   ]
  },
  {
   "cell_type": "markdown",
   "id": "28a0d6d1",
   "metadata": {},
   "source": [
    "## **`Python numpy.random module`**"
   ]
  },
  {
   "cell_type": "markdown",
   "id": "39eb9285",
   "metadata": {},
   "source": [
    "* Import **`numpy.random`** module"
   ]
  },
  {
   "cell_type": "code",
   "execution_count": 1,
   "id": "65046ee2",
   "metadata": {},
   "outputs": [],
   "source": [
    "import numpy"
   ]
  },
  {
   "cell_type": "markdown",
   "id": "8a5280b0",
   "metadata": {},
   "source": [
    "* Save the contents of **`numpy.random`** module into the list **`contents`**"
   ]
  },
  {
   "cell_type": "code",
   "execution_count": 13,
   "id": "ef9a8589",
   "metadata": {},
   "outputs": [],
   "source": [
    "contents = numpy.random"
   ]
  },
  {
   "cell_type": "markdown",
   "id": "54a13b9d",
   "metadata": {},
   "source": [
    "* Print the list **`contents`**."
   ]
  },
  {
   "cell_type": "code",
   "execution_count": null,
   "id": "6acf5139",
   "metadata": {},
   "outputs": [
    {
     "name": "stdout",
     "output_type": "stream",
     "text": [
      "<module 'numpy.random' from '/home/henryviyuyi/Desktop/4TH_YEAR_COMPUTATIONAL_PHYSICS_PROJECTS/.venv/lib/python3.8/site-packages/numpy/random/__init__.py'>\n"
     ]
    }
   ],
   "source": [
    "print(contents)"
   ]
  },
  {
   "cell_type": "markdown",
   "id": "6ce7afbb",
   "metadata": {},
   "source": [
    "## **`Exercise 1 : Generate a single real random number`**"
   ]
  },
  {
   "cell_type": "markdown",
   "id": "a35b44fe",
   "metadata": {},
   "source": [
    "The random **`numpy.random.random()`** function generates a single random number in **`[0.0, 1.0)`**."
   ]
  },
  {
   "cell_type": "markdown",
   "id": "88da9bb4",
   "metadata": {},
   "source": [
    "#### **`Instructions`**"
   ]
  },
  {
   "cell_type": "markdown",
   "id": "045d2c4b",
   "metadata": {},
   "source": [
    "* Import **`random()`** function from **`numpy.random`** module"
   ]
  },
  {
   "cell_type": "code",
   "execution_count": 5,
   "id": "814a64ef",
   "metadata": {},
   "outputs": [],
   "source": [
    "from numpy.random import random"
   ]
  },
  {
   "cell_type": "markdown",
   "id": "c2f9ab74",
   "metadata": {},
   "source": [
    "* Display help on numpy random **`random()`** function"
   ]
  },
  {
   "cell_type": "code",
   "execution_count": 6,
   "id": "088a660a",
   "metadata": {},
   "outputs": [
    {
     "name": "stdout",
     "output_type": "stream",
     "text": [
      "Help on built-in function random:\n",
      "\n",
      "random(...) method of numpy.random.mtrand.RandomState instance\n",
      "    random(size=None)\n",
      "    \n",
      "    Return random floats in the half-open interval [0.0, 1.0). Alias for\n",
      "    `random_sample` to ease forward-porting to the new random API.\n",
      "\n"
     ]
    }
   ],
   "source": [
    "help(random)"
   ]
  },
  {
   "cell_type": "markdown",
   "id": "7b754ebb",
   "metadata": {},
   "source": [
    "* Generate a single real random number in interval **`[0,1)`** and store it in variable **`ans`**."
   ]
  },
  {
   "cell_type": "code",
   "execution_count": 8,
   "id": "2f108bc7",
   "metadata": {},
   "outputs": [],
   "source": [
    "ans = random()"
   ]
  },
  {
   "cell_type": "markdown",
   "id": "23832a88",
   "metadata": {},
   "source": [
    "* Print variable **`ans`**"
   ]
  },
  {
   "cell_type": "code",
   "execution_count": 9,
   "id": "4069890b",
   "metadata": {},
   "outputs": [
    {
     "name": "stdout",
     "output_type": "stream",
     "text": [
      "0.06121528913977414\n"
     ]
    }
   ],
   "source": [
    "print(ans)"
   ]
  },
  {
   "cell_type": "markdown",
   "id": "766c7212",
   "metadata": {},
   "source": [
    "* Generate another single random number in range **`[0,1)`** and store it in variable **`ans`**."
   ]
  },
  {
   "cell_type": "code",
   "execution_count": 10,
   "id": "4bde7293",
   "metadata": {},
   "outputs": [],
   "source": [
    "ans = random()"
   ]
  },
  {
   "cell_type": "markdown",
   "id": "736f8a02",
   "metadata": {},
   "source": [
    "* Print variable **`ans`**"
   ]
  },
  {
   "cell_type": "code",
   "execution_count": 11,
   "id": "7509dfab",
   "metadata": {},
   "outputs": [
    {
     "name": "stdout",
     "output_type": "stream",
     "text": [
      "0.32465025416678217\n"
     ]
    }
   ],
   "source": [
    "print(ans)"
   ]
  },
  {
   "cell_type": "markdown",
   "id": "7a0ebef0",
   "metadata": {},
   "source": [
    "## **`Exercise 2 : Generate a single real random integer`**"
   ]
  },
  {
   "cell_type": "markdown",
   "id": "67f55f9f",
   "metadata": {},
   "source": [
    "The random **`numpy.random.randint()`** function generates a single random integer within a given interval **`[a, b)`**."
   ]
  },
  {
   "cell_type": "markdown",
   "id": "c0cf7048",
   "metadata": {},
   "source": [
    "#### **`Instructions`**"
   ]
  },
  {
   "cell_type": "markdown",
   "id": "3eab8cf3",
   "metadata": {},
   "source": [
    "* Import **`randint()`** function from **`numpy.random`** module"
   ]
  },
  {
   "cell_type": "code",
   "execution_count": 14,
   "id": "17556024",
   "metadata": {},
   "outputs": [],
   "source": [
    "from numpy.random import randint"
   ]
  },
  {
   "cell_type": "markdown",
   "id": "77ed1259",
   "metadata": {},
   "source": [
    "* Generate another single random integer in range **`[0,50)`** and store it in variable **`ans`**."
   ]
  },
  {
   "cell_type": "code",
   "execution_count": 23,
   "id": "e50e9866",
   "metadata": {},
   "outputs": [],
   "source": [
    "ans = randint(0,49)"
   ]
  },
  {
   "cell_type": "markdown",
   "id": "de47618d",
   "metadata": {},
   "source": [
    "* Print variable **`ans`**"
   ]
  },
  {
   "cell_type": "code",
   "execution_count": 20,
   "id": "66425471",
   "metadata": {},
   "outputs": [
    {
     "name": "stdout",
     "output_type": "stream",
     "text": [
      "20\n"
     ]
    }
   ],
   "source": [
    "print(ans)"
   ]
  },
  {
   "cell_type": "markdown",
   "id": "6e2e17e7",
   "metadata": {},
   "source": [
    "* Generate  single random integer in range **`[30,100)`** and store it in variable **`ans`**."
   ]
  },
  {
   "cell_type": "code",
   "execution_count": 24,
   "id": "fabffe88",
   "metadata": {},
   "outputs": [],
   "source": [
    "ans = randint(30,99)"
   ]
  },
  {
   "cell_type": "markdown",
   "id": "ce9177af",
   "metadata": {},
   "source": [
    "* Print variable **`ans`**"
   ]
  },
  {
   "cell_type": "code",
   "execution_count": 25,
   "id": "3e2b2776",
   "metadata": {},
   "outputs": [
    {
     "name": "stdout",
     "output_type": "stream",
     "text": [
      "59\n"
     ]
    }
   ],
   "source": [
    "print(ans)"
   ]
  },
  {
   "cell_type": "markdown",
   "id": "2db69fee",
   "metadata": {},
   "source": [
    "## **`Exercise 3 : Generate a list of real random numbers`**\n",
    "\n",
    "The **`numpy.random.rand()`** function generates an array of random numbers or a matrix of random numbers in the **`0`** to  **`1`** (**`excluding 0 and 1`**)."
   ]
  },
  {
   "cell_type": "markdown",
   "id": "c4dbae4c",
   "metadata": {},
   "source": [
    "#### **`Instructions`**"
   ]
  },
  {
   "cell_type": "markdown",
   "id": "612b30b0",
   "metadata": {},
   "source": [
    "* Import **`rand()`** function from **`numpy.random`** module"
   ]
  },
  {
   "cell_type": "code",
   "execution_count": 26,
   "id": "9b4f500b",
   "metadata": {},
   "outputs": [],
   "source": [
    "from numpy.random import rand"
   ]
  },
  {
   "cell_type": "markdown",
   "id": "ca0809ce",
   "metadata": {},
   "source": [
    "* Display help on random **`rand`** function"
   ]
  },
  {
   "cell_type": "code",
   "execution_count": 27,
   "id": "e1a64df7",
   "metadata": {},
   "outputs": [
    {
     "name": "stdout",
     "output_type": "stream",
     "text": [
      "Help on built-in function rand:\n",
      "\n",
      "rand(...) method of numpy.random.mtrand.RandomState instance\n",
      "    rand(d0, d1, ..., dn)\n",
      "    \n",
      "    Random values in a given shape.\n",
      "    \n",
      "    .. note::\n",
      "        This is a convenience function for users porting code from Matlab,\n",
      "        and wraps `random_sample`. That function takes a\n",
      "        tuple to specify the size of the output, which is consistent with\n",
      "        other NumPy functions like `numpy.zeros` and `numpy.ones`.\n",
      "    \n",
      "    Create an array of the given shape and populate it with\n",
      "    random samples from a uniform distribution\n",
      "    over ``[0, 1)``.\n",
      "    \n",
      "    Parameters\n",
      "    ----------\n",
      "    d0, d1, ..., dn : int, optional\n",
      "        The dimensions of the returned array, must be non-negative.\n",
      "        If no argument is given a single Python float is returned.\n",
      "    \n",
      "    Returns\n",
      "    -------\n",
      "    out : ndarray, shape ``(d0, d1, ..., dn)``\n",
      "        Random values.\n",
      "    \n",
      "    See Also\n",
      "    --------\n",
      "    random\n",
      "    \n",
      "    Examples\n",
      "    --------\n",
      "    >>> np.random.rand(3,2)\n",
      "    array([[ 0.14022471,  0.96360618],  #random\n",
      "           [ 0.37601032,  0.25528411],  #random\n",
      "           [ 0.49313049,  0.94909878]]) #random\n",
      "\n"
     ]
    }
   ],
   "source": [
    "help(rand)"
   ]
  },
  {
   "cell_type": "markdown",
   "id": "84330351",
   "metadata": {},
   "source": [
    "* Generate a numpy array of 10 random real number in the interval **`[0,1)`** and store it in variable **`ans`**."
   ]
  },
  {
   "cell_type": "code",
   "execution_count": 28,
   "id": "2624908f",
   "metadata": {},
   "outputs": [],
   "source": [
    "ans = rand(10)"
   ]
  },
  {
   "cell_type": "markdown",
   "id": "b6e13987",
   "metadata": {},
   "source": [
    "* Print variable **`ans`**"
   ]
  },
  {
   "cell_type": "code",
   "execution_count": 29,
   "id": "6633106a",
   "metadata": {},
   "outputs": [
    {
     "name": "stdout",
     "output_type": "stream",
     "text": [
      "[0.53862366 0.7053332  0.62231951 0.42429302 0.07366796 0.73922401\n",
      " 0.73826002 0.86036391 0.95286076 0.12164057]\n"
     ]
    }
   ],
   "source": [
    "print(ans)"
   ]
  },
  {
   "cell_type": "markdown",
   "id": "0dd104e5",
   "metadata": {},
   "source": [
    "* Generate a numpy $5 \\times 5$ matrix random real number in the interval **`[0,1)`** and store it in variable **`ans`**."
   ]
  },
  {
   "cell_type": "code",
   "execution_count": 30,
   "id": "32e8b88d",
   "metadata": {},
   "outputs": [],
   "source": [
    "ans = rand(5,5)"
   ]
  },
  {
   "cell_type": "markdown",
   "id": "c74c97f0",
   "metadata": {},
   "source": [
    "* Print variable **`ans`**"
   ]
  },
  {
   "cell_type": "code",
   "execution_count": 31,
   "id": "a14677db",
   "metadata": {},
   "outputs": [
    {
     "name": "stdout",
     "output_type": "stream",
     "text": [
      "[[0.38264562 0.40822689 0.15913785 0.99591308 0.21369078]\n",
      " [0.05643202 0.0491676  0.59878046 0.46557423 0.91308697]\n",
      " [0.93432781 0.36486014 0.38376161 0.13789417 0.92776875]\n",
      " [0.19978285 0.79817182 0.66168329 0.17212575 0.24697391]\n",
      " [0.54403137 0.65646735 0.39245947 0.91950752 0.39634238]]\n"
     ]
    }
   ],
   "source": [
    "print(ans)"
   ]
  },
  {
   "cell_type": "markdown",
   "id": "93e2b769",
   "metadata": {},
   "source": [
    "* Generate a numpy array of 10 random real number in the interval **`[0,50)`** and store it in variable **`ans`**."
   ]
  },
  {
   "cell_type": "code",
   "execution_count": 35,
   "id": "3a43c093",
   "metadata": {},
   "outputs": [],
   "source": [
    "ans = randint(0, 50, 10)"
   ]
  },
  {
   "cell_type": "markdown",
   "id": "0b9a1124",
   "metadata": {},
   "source": [
    "* Print variable **`ans`**"
   ]
  },
  {
   "cell_type": "code",
   "execution_count": 36,
   "id": "3b9beab4",
   "metadata": {},
   "outputs": [
    {
     "name": "stdout",
     "output_type": "stream",
     "text": [
      "[12  1 32 45 32 42 48 17 26  3]\n"
     ]
    }
   ],
   "source": [
    "print(ans)"
   ]
  },
  {
   "cell_type": "markdown",
   "id": "4c562e0e",
   "metadata": {},
   "source": [
    "## **`Exercise 4 : Shuffling a list of random numbers`**\n",
    "\n",
    "The **`numpy.random.shuffle()`** function takes one argument - a list. It then shuffles the elements of the list in place."
   ]
  },
  {
   "cell_type": "markdown",
   "id": "91ec8f00",
   "metadata": {},
   "source": [
    "#### **`Instructions`**"
   ]
  },
  {
   "cell_type": "markdown",
   "id": "a6887630",
   "metadata": {},
   "source": [
    "* Import **`shuffle()`** function from **`numpy.random`** module"
   ]
  },
  {
   "cell_type": "code",
   "execution_count": 37,
   "id": "d8bb67ed",
   "metadata": {},
   "outputs": [],
   "source": [
    "from numpy.random import shuffle"
   ]
  },
  {
   "cell_type": "markdown",
   "id": "6f08fad3",
   "metadata": {},
   "source": [
    "* Display help on **`shuffle()`** function"
   ]
  },
  {
   "cell_type": "code",
   "execution_count": 38,
   "id": "28050f16",
   "metadata": {},
   "outputs": [
    {
     "name": "stdout",
     "output_type": "stream",
     "text": [
      "Help on built-in function shuffle:\n",
      "\n",
      "shuffle(...) method of numpy.random.mtrand.RandomState instance\n",
      "    shuffle(x)\n",
      "    \n",
      "    Modify a sequence in-place by shuffling its contents.\n",
      "    \n",
      "    This function only shuffles the array along the first axis of a\n",
      "    multi-dimensional array. The order of sub-arrays is changed but\n",
      "    their contents remains the same.\n",
      "    \n",
      "    .. note::\n",
      "        New code should use the `~numpy.random.Generator.shuffle`\n",
      "        method of a `~numpy.random.Generator` instance instead;\n",
      "        please see the :ref:`random-quick-start`.\n",
      "    \n",
      "    Parameters\n",
      "    ----------\n",
      "    x : ndarray or MutableSequence\n",
      "        The array, list or mutable sequence to be shuffled.\n",
      "    \n",
      "    Returns\n",
      "    -------\n",
      "    None\n",
      "    \n",
      "    See Also\n",
      "    --------\n",
      "    random.Generator.shuffle: which should be used for new code.\n",
      "    \n",
      "    Examples\n",
      "    --------\n",
      "    >>> arr = np.arange(10)\n",
      "    >>> np.random.shuffle(arr)\n",
      "    >>> arr\n",
      "    [1 7 5 2 9 4 3 6 0 8] # random\n",
      "    \n",
      "    Multi-dimensional arrays are only shuffled along the first axis:\n",
      "    \n",
      "    >>> arr = np.arange(9).reshape((3, 3))\n",
      "    >>> np.random.shuffle(arr)\n",
      "    >>> arr\n",
      "    array([[3, 4, 5], # random\n",
      "           [6, 7, 8],\n",
      "           [0, 1, 2]])\n",
      "\n"
     ]
    }
   ],
   "source": [
    "help(shuffle)"
   ]
  },
  {
   "cell_type": "markdown",
   "id": "02628894",
   "metadata": {},
   "source": [
    "* Generate a numpy array of **`10`** real random numbers and store it in variable **`numbers`**"
   ]
  },
  {
   "cell_type": "code",
   "execution_count": 41,
   "id": "23961a86",
   "metadata": {},
   "outputs": [],
   "source": [
    "numbers = rand(10)"
   ]
  },
  {
   "cell_type": "markdown",
   "id": "2781960a",
   "metadata": {},
   "source": [
    "* Print out numpy array **`numbers`**."
   ]
  },
  {
   "cell_type": "code",
   "execution_count": 42,
   "id": "219fb612",
   "metadata": {},
   "outputs": [
    {
     "name": "stdout",
     "output_type": "stream",
     "text": [
      "[0.25115056 0.71626535 0.80468775 0.44082183 0.49548985 0.62682486\n",
      " 0.36555085 0.59086809 0.33134108 0.93104211]\n"
     ]
    }
   ],
   "source": [
    "print(numbers)"
   ]
  },
  {
   "cell_type": "markdown",
   "id": "dbd8f715",
   "metadata": {},
   "source": [
    "* Shuffle the numpy array **`numbers`** using the numpy random **`shuffle()`** function."
   ]
  },
  {
   "cell_type": "code",
   "execution_count": 43,
   "id": "b8169082",
   "metadata": {},
   "outputs": [],
   "source": [
    "shuffle(numbers)"
   ]
  },
  {
   "cell_type": "markdown",
   "id": "cc6a23d6",
   "metadata": {},
   "source": [
    "* Print the shuffled numpy array **`numbers`**"
   ]
  },
  {
   "cell_type": "code",
   "execution_count": 44,
   "id": "8360dbfb",
   "metadata": {},
   "outputs": [
    {
     "name": "stdout",
     "output_type": "stream",
     "text": [
      "[0.44082183 0.93104211 0.62682486 0.25115056 0.33134108 0.80468775\n",
      " 0.59086809 0.71626535 0.49548985 0.36555085]\n"
     ]
    }
   ],
   "source": [
    "print(numbers)"
   ]
  },
  {
   "cell_type": "markdown",
   "id": "a9754501",
   "metadata": {},
   "source": [
    "* Shuffle the numpy array **`numbers`** again using the numpy random **`shuffle()`** function."
   ]
  },
  {
   "cell_type": "code",
   "execution_count": 45,
   "id": "23b17076",
   "metadata": {},
   "outputs": [],
   "source": [
    "shuffle(numbers)"
   ]
  },
  {
   "cell_type": "markdown",
   "id": "8d460d31",
   "metadata": {},
   "source": [
    "* Print the shuffled numpy array **`numbers`**"
   ]
  },
  {
   "cell_type": "code",
   "execution_count": 46,
   "id": "92bc1c5d",
   "metadata": {},
   "outputs": [
    {
     "name": "stdout",
     "output_type": "stream",
     "text": [
      "[0.93104211 0.71626535 0.80468775 0.25115056 0.49548985 0.62682486\n",
      " 0.44082183 0.59086809 0.33134108 0.36555085]\n"
     ]
    }
   ],
   "source": [
    "print(numbers)"
   ]
  },
  {
   "cell_type": "code",
   "execution_count": null,
   "id": "2d025f7b",
   "metadata": {},
   "outputs": [],
   "source": []
  }
 ],
 "metadata": {
  "kernelspec": {
   "display_name": ".venv",
   "language": "python",
   "name": "python3"
  },
  "language_info": {
   "codemirror_mode": {
    "name": "ipython",
    "version": 3
   },
   "file_extension": ".py",
   "mimetype": "text/x-python",
   "name": "python",
   "nbconvert_exporter": "python",
   "pygments_lexer": "ipython3",
   "version": "3.8.10"
  }
 },
 "nbformat": 4,
 "nbformat_minor": 5
}
